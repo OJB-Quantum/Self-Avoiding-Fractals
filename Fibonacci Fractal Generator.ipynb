{
  "nbformat": 4,
  "nbformat_minor": 0,
  "metadata": {
    "colab": {
      "provenance": [],
      "authorship_tag": "ABX9TyNSop8mutbcRrdty/7zZqpu",
      "include_colab_link": true
    },
    "kernelspec": {
      "name": "python3",
      "display_name": "Python 3"
    },
    "language_info": {
      "name": "python"
    }
  },
  "cells": [
    {
      "cell_type": "markdown",
      "metadata": {
        "id": "view-in-github",
        "colab_type": "text"
      },
      "source": [
        "<a href=\"https://colab.research.google.com/github/OJB-Quantum/Self-Avoiding-Fractals/blob/main/Fibonacci%20Fractal%20Generator.ipynb\" target=\"_parent\"><img src=\"https://colab.research.google.com/assets/colab-badge.svg\" alt=\"Open In Colab\"/></a>"
      ]
    },
    {
      "cell_type": "code",
      "execution_count": 28,
      "metadata": {
        "colab": {
          "base_uri": "https://localhost:8080/"
        },
        "id": "ujATVheXUPn6",
        "outputId": "3c94801f-5b60-4b1c-8a00-19800bbf729f"
      },
      "outputs": [
        {
          "output_type": "stream",
          "name": "stdout",
          "text": [
            "Requirement already satisfied: svgwrite in /usr/local/lib/python3.10/dist-packages (1.4.3)\n",
            "\u001b[31mERROR: Could not find a version that satisfies the requirement math (from versions: none)\u001b[0m\u001b[31m\n",
            "\u001b[0m\u001b[31mERROR: No matching distribution found for math\u001b[0m\u001b[31m\n",
            "\u001b[0m"
          ]
        }
      ],
      "source": [
        "!pip install svgwrite\n",
        "!pip install math"
      ]
    },
    {
      "cell_type": "code",
      "source": [
        "import svgwrite\n",
        "import math"
      ],
      "metadata": {
        "id": "K2yc2HiJVSnb"
      },
      "execution_count": 29,
      "outputs": []
    },
    {
      "cell_type": "code",
      "source": [
        "def generate_fibonacci_word(n):\n",
        "    \"\"\"Generate the Fibonacci word sequence up to the nth term.\"\"\"\n",
        "    if n == 1:\n",
        "        return \"1\"\n",
        "    elif n == 2:\n",
        "        return \"0\"\n",
        "    else:\n",
        "        f1 = \"1\"\n",
        "        f2 = \"0\"\n",
        "        for _ in range(3, n + 1):\n",
        "            fn = f2 + f1\n",
        "            f1, f2 = f2, fn\n",
        "        return fn\n",
        "\n",
        "def draw_fibonacci_fractal(dwg, start_pos, length, angle, word, line_thickness):\n",
        "    \"\"\"Draw the Fibonacci word fractal based on the given word, while tracking boundaries.\"\"\"\n",
        "    current_pos = start_pos\n",
        "    current_angle = angle\n",
        "\n",
        "    # Boundary tracking\n",
        "    min_x, min_y = start_pos\n",
        "    max_x, max_y = start_pos\n",
        "\n",
        "    for i, char in enumerate(word):\n",
        "        # Calculate next position\n",
        "        next_pos = (\n",
        "            current_pos[0] + length * math.cos(math.radians(current_angle)),\n",
        "            current_pos[1] + length * math.sin(math.radians(current_angle)),\n",
        "        )\n",
        "\n",
        "        # Update boundaries\n",
        "        min_x = min(min_x, next_pos[0])\n",
        "        min_y = min(min_y, next_pos[1])\n",
        "        max_x = max(max_x, next_pos[0])\n",
        "        max_y = max(max_y, next_pos[1])\n",
        "\n",
        "        # Draw the line segment\n",
        "        dwg.add(dwg.line(start=current_pos, end=next_pos, stroke=svgwrite.rgb(0, 0, 0, '%'), stroke_width=line_thickness))\n",
        "\n",
        "        # Update current position\n",
        "        current_pos = next_pos\n",
        "\n",
        "        # Turn based on the Fibonacci word rule\n",
        "        if char == '0':\n",
        "            if (i + 1) % 2 == 0:  # even index in 1-based counting\n",
        "                current_angle -= 90\n",
        "            else:\n",
        "                current_angle += 90\n",
        "        # No turn for '1'\n",
        "\n",
        "    return min_x, min_y, max_x, max_y\n",
        "\n",
        "def create_fibonacci_word_fractal(num_segments, line_thickness, filename=\"fibonacci_fractal.svg\"):\n",
        "    # Generate the Fibonacci word corresponding to the number of segments\n",
        "    fibonacci_word = generate_fibonacci_word(num_segments)\n",
        "\n",
        "    # Initial position and angle\n",
        "    start_pos = (0, 0)\n",
        "    initial_angle = 0\n",
        "    segment_length = 10  # You can adjust the length of each segment here\n",
        "\n",
        "    # Initialize SVG drawing\n",
        "    dwg = svgwrite.Drawing(filename, profile='tiny')\n",
        "\n",
        "    # Draw the fractal and get boundaries\n",
        "    min_x, min_y, max_x, max_y = draw_fibonacci_fractal(dwg, start_pos, segment_length, initial_angle, fibonacci_word, line_thickness)\n",
        "\n",
        "    # Adjust SVG canvas size based on boundaries\n",
        "    canvas_width = max_x - min_x + 2 * line_thickness\n",
        "    canvas_height = max_y - min_y + 2 * line_thickness\n",
        "    dwg.viewbox(min_x - line_thickness, min_y - line_thickness, canvas_width, canvas_height)\n",
        "\n",
        "    # Save the drawing\n",
        "    dwg.save()\n",
        "\n",
        "# Example usage:\n",
        "# User specifies number of segments and line thickness\n",
        "# There are self-similarities between F_n and F_n-3 curves according to the Monnerot-Dumaine paper\n",
        "# This suggests that every 3 iterations there is a self-similarity\n",
        "# Keep in mind that 26 iterations is the limit for the fractal density when run in Google Colab\n",
        "\n",
        "num_segments = 23  # Replace this with user input\n",
        "line_thickness = 5  # Replace this with user input in pixels\n",
        "\n",
        "# Create the fractal and save as SVG\n",
        "create_fibonacci_word_fractal(num_segments, line_thickness)"
      ],
      "metadata": {
        "id": "uyEVMbmwK3NP"
      },
      "execution_count": 39,
      "outputs": []
    }
  ]
}